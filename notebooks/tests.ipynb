{
 "cells": [
  {
   "cell_type": "code",
   "execution_count": null,
   "metadata": {},
   "outputs": [],
   "source": [
    "import os\n",
    "from llama_index.core import (\n",
    "    load_index_from_storage,\n",
    "    SimpleDirectoryReader,\n",
    "    StorageContext,\n",
    "    VectorStoreIndex,\n",
    ")\n",
    "from llama_index.core.node_parser import SimpleNodeParser\n",
    "from llama_index.embeddings.huggingface import HuggingFaceEmbedding\n",
    "from llama_index.embeddings.openai import OpenAIEmbedding\n",
    "from llama_index.llms.openai import OpenAI\n",
    "\n",
    "EMBEDDING_DIMENSIONS = {\n",
    "    \"sentence-transformers/all-MiniLM-L6-v2\": 384,\n",
    "    \"sentence-transformers/all-mpnet-base-v2\": 768,\n",
    "    \"text-embedding-3-small\": 1536,\n",
    "}"
   ]
  },
  {
   "cell_type": "code",
   "execution_count": 35,
   "metadata": {},
   "outputs": [],
   "source": [
    "input_dir = \"/Users/goeksu/dev/interactive_rag/data/landing\"\n",
    "persist_root = \"/Users/goeksu/dev/interactive_rag/data/index\"\n",
    "chunk_size = 256\n",
    "model_name = \"text-embedding-3-small\"\n",
    "persist_dir = os.path.join(persist_root, model_name)\n",
    "os.makedirs(persist_dir, exist_ok=True)\n",
    "\n",
    "# File ingestion\n",
    "# Simple directory reader seems to be sufficient for this task.\n",
    "reader = SimpleDirectoryReader(input_dir=input_dir)\n",
    "documents = reader.load_data()\n",
    "# Split docs to nodes and create vector index\n",
    "# Just setting a sliding window chunk here, nothing fancy.\n",
    "node_parser = SimpleNodeParser.from_defaults(\n",
    "    chunk_size=chunk_size, chunk_overlap=int(chunk_size * 0.2)\n",
    ")\n",
    "nodes = node_parser.get_nodes_from_documents(documents=documents)"
   ]
  },
  {
   "cell_type": "code",
   "execution_count": 19,
   "metadata": {},
   "outputs": [],
   "source": [
    "# Initialize embedding model\n",
    "if model_name.startswith(\"text-embedding-3\"):\n",
    "    embedding_model = OpenAIEmbedding(model=model_name)\n",
    "else:\n",
    "    embedding_model = HuggingFaceEmbedding(model_name=model_name)"
   ]
  },
  {
   "cell_type": "code",
   "execution_count": null,
   "metadata": {},
   "outputs": [],
   "source": [
    "# Initialize a faiss vector store\n",
    "index = VectorStoreIndex(nodes=nodes, embed_model=embedding_model)\n",
    "\n",
    "# d = EMBEDDING_DIMENSIONS[model_name]\n",
    "# faiss_index = faiss.IndexFlatL2(d)\n",
    "# vector_store = FaissVectorStore(faiss_index=faiss_index)\n",
    "# storage_context = StorageContext.from_defaults(vector_store=vector_store)\n",
    "# index = VectorStoreIndex(\n",
    "#    nodes=nodes, storage_context=storage_context, embed_model=embedding_model\n",
    "# )\n",
    "\n",
    "# Save index to disk\n",
    "index.storage_context.persist(persist_dir=persist_dir)"
   ]
  },
  {
   "cell_type": "code",
   "execution_count": 24,
   "metadata": {},
   "outputs": [],
   "source": [
    "# interact with index\n",
    "chat_engine = index.as_chat_engine(llm=OpenAI(model=\"gpt-4o-mini\"), similarity_top_k=3)"
   ]
  },
  {
   "cell_type": "code",
   "execution_count": 25,
   "metadata": {},
   "outputs": [
    {
     "name": "stdout",
     "output_type": "stream",
     "text": [
      "ChemNovus Incorporated provides various employee benefits, including:\n",
      "\n",
      "- Competitive salaries\n",
      "- Comprehensive health insurance\n",
      "- Tuition assistance for job-related education\n",
      "- Discounts on various products and services\n",
      "\n",
      "The company also promotes charitable giving and community involvement through volunteer programs and matching gift initiatives. It's important to note that specific benefits and eligibility may vary based on location and local agreements. For detailed inquiries, employees are encouraged to contact their local Human Resources department or access the Employee Benefits Portal.\n"
     ]
    }
   ],
   "source": [
    "response = chat_engine.chat(\"What sort of information about ChemNovus can you provide?\")\n",
    "print(response)"
   ]
  },
  {
   "cell_type": "code",
   "execution_count": 26,
   "metadata": {},
   "outputs": [
    {
     "name": "stdout",
     "output_type": "stream",
     "text": [
      "ChemNovus Incorporated offers a variety of health and wellness benefits to its employees, which include:\n",
      "\n",
      "### United States\n",
      "- **Medical Plan Options**: Employees can choose from three medical plans through a partnership with TheInsuranceCompany Ltd. These plans cover:\n",
      "  - Preventive care\n",
      "  - Doctor visits\n",
      "  - Hospital stays\n",
      "  - Prescription drugs\n",
      "- **Plan Variations**: The plans differ in terms of deductibles, copays, and coinsurance rates. Options include:\n",
      "  - A traditional PPO plan with a broad network and moderate costs.\n",
      "  - A high-deductible health plan that allows contributions to a health savings account (HSA).\n",
      "\n",
      "### European Region\n",
      "- **Statutory Health Insurance**: Participation in the statutory health insurance system is typically required, providing comprehensive medical coverage. ChemNovus contributes to the premiums, while employees cover the remaining costs through payroll deductions.\n",
      "- **Supplementary Health Insurance**: Additional options are available to enhance coverage, including benefits for:\n",
      "  - Dental and vision care\n",
      "  - Alternative therapies\n",
      "  - Private hospital accommodations\n",
      "\n",
      "These health benefits are designed to support the well-being of employees and their families.\n"
     ]
    }
   ],
   "source": [
    "response = chat_engine.chat(\"Can you give me more information about health benefits?\")\n",
    "print(response)"
   ]
  },
  {
   "cell_type": "code",
   "execution_count": 36,
   "metadata": {},
   "outputs": [],
   "source": [
    "# Load index and interact\n",
    "# vector_store = FaissVectorStore.from_persist_dir(persist_dir)\n",
    "# storage_context = StorageContext.from_defaults(\n",
    "#    vector_store=vector_store, persist_dir=persist_dir\n",
    "# )\n",
    "# index_load = load_index_from_storage(storage_context=storage_context)\n",
    "\n",
    "# rebuild storage context\n",
    "storage_context = StorageContext.from_defaults(persist_dir=persist_dir)\n",
    "# load index\n",
    "index_load = load_index_from_storage(storage_context, embed_model=embedding_model)\n",
    "\n",
    "# interact with index\n",
    "chat_engine_2 = index_load.as_chat_engine(\n",
    "    llm=OpenAI(model=\"gpt-4o-mini\"),\n",
    "    #     chat_mode=\"condense_plus_context\",\n",
    "    similarity_top_k=3,\n",
    ")"
   ]
  },
  {
   "cell_type": "code",
   "execution_count": 37,
   "metadata": {},
   "outputs": [
    {
     "name": "stdout",
     "output_type": "stream",
     "text": [
      "ChemNovus Incorporated provides a variety of employee benefits, which include:\n",
      "\n",
      "- Competitive salaries\n",
      "- Health insurance\n",
      "- Tuition assistance\n",
      "- Employee discounts\n",
      "- Support for charitable giving and volunteer programs\n",
      "\n",
      "Employees may also be eligible for discounts on various products and services, and the company promotes participation in community activities. It's important to note that specific benefits and eligibility criteria can vary by location and local agreements. For more detailed information, employees are encouraged to reach out to their local Human Resources department or check the Employee Benefits Portal.\n"
     ]
    }
   ],
   "source": [
    "response = chat_engine_2.chat(\n",
    "    \"What sort of information about ChemNovus can you provide?\"\n",
    ")\n",
    "print(response)"
   ]
  }
 ],
 "metadata": {
  "kernelspec": {
   "display_name": "interactive-rag-uPEmyITP-py3.12",
   "language": "python",
   "name": "python3"
  },
  "language_info": {
   "codemirror_mode": {
    "name": "ipython",
    "version": 3
   },
   "file_extension": ".py",
   "mimetype": "text/x-python",
   "name": "python",
   "nbconvert_exporter": "python",
   "pygments_lexer": "ipython3",
   "version": "3.12.2"
  }
 },
 "nbformat": 4,
 "nbformat_minor": 2
}
