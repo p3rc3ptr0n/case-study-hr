{
 "cells": [
  {
   "cell_type": "code",
   "execution_count": null,
   "metadata": {},
   "outputs": [
    {
     "name": "stderr",
     "output_type": "stream",
     "text": [
      "/Users/goeksu/Library/Caches/pypoetry/virtualenvs/interactive-rag-uPEmyITP-py3.11/lib/python3.11/site-packages/tqdm/auto.py:21: TqdmWarning: IProgress not found. Please update jupyter and ipywidgets. See https://ipywidgets.readthedocs.io/en/stable/user_install.html\n",
      "  from .autonotebook import tqdm as notebook_tqdm\n"
     ]
    }
   ],
   "source": [
    "import os\n",
    "import faiss\n",
    "from llama_index.core import (\n",
    "    SimpleDirectoryReader,\n",
    "    StorageContext,\n",
    "    VectorStoreIndex,\n",
    ")\n",
    "from llama_index.core.node_parser import SimpleNodeParser\n",
    "from llama_index.vector_stores.faiss import FaissVectorStore\n",
    "from llama_index.llms.openai import OpenAI\n",
    "\n",
    "EMBEDDING_DIMENSIONS = {\n",
    "    \"sentence-transformers/all-MiniLM-L6-v2\": 384,\n",
    "    \"sentence-transformers/all-mpnet-base-v2\": 768,\n",
    "    \"text-embedding-3-small\": 1536,\n",
    "}"
   ]
  },
  {
   "cell_type": "code",
   "execution_count": 2,
   "metadata": {},
   "outputs": [
    {
     "ename": "",
     "evalue": "",
     "output_type": "error",
     "traceback": [
      "\u001b[1;31mThe Kernel crashed while executing code in the current cell or a previous cell. \n",
      "\u001b[1;31mPlease review the code in the cell(s) to identify a possible cause of the failure. \n",
      "\u001b[1;31mClick <a href='https://aka.ms/vscodeJupyterKernelCrash'>here</a> for more info. \n",
      "\u001b[1;31mView Jupyter <a href='command:jupyter.viewOutput'>log</a> for further details."
     ]
    }
   ],
   "source": [
    "input_dir = \"/Users/goeksu/dev/interactive_rag/data/landing\"\n",
    "persist_root = \"/Users/goeksu/dev/interactive_rag/data/index\"\n",
    "chunk_size = 256\n",
    "model_name = \"sentence-transformers/all-MiniLM-L6-v2\"\n",
    "\n",
    "# File ingestion\n",
    "# Simple directory reader seems to be sufficient for this task.\n",
    "reader = SimpleDirectoryReader(input_dir=input_dir)\n",
    "documents = reader.load_data()\n",
    "# Split docs to nodes and create vector index\n",
    "# Just setting a sliding window chunk here, nothing fancy.\n",
    "node_parser = SimpleNodeParser.from_defaults(\n",
    "    chunk_size=chunk_size, chunk_overlap=int(chunk_size * 0.2)\n",
    ")\n",
    "nodes = node_parser.get_nodes_from_documents(documents=documents)"
   ]
  },
  {
   "cell_type": "code",
   "execution_count": null,
   "metadata": {},
   "outputs": [],
   "source": [
    "# Initialize embedding model\n",
    "if model_name.startswith(\"text-embedding-3\"):\n",
    "    embedding_model = OpenAIEmbedding(model=model_name)\n",
    "else:\n",
    "    embedding_model = HuggingFaceEmbedding(model_name=model_name)"
   ]
  },
  {
   "cell_type": "code",
   "execution_count": null,
   "metadata": {},
   "outputs": [],
   "source": [
    "# Initialize a faiss vector store\n",
    "d = EMBEDDING_DIMENSIONS[model_name]\n",
    "faiss_index = faiss.IndexFlatL2(d)\n",
    "vector_store = FaissVectorStore(faiss_index=faiss_index)\n",
    "storage_context = StorageContext.from_defaults(vector_store=vector_store)\n",
    "index = VectorStoreIndex(\n",
    "    nodes=nodes, storage_context=storage_context, embed_model=embedding_model\n",
    ")\n",
    "# Save index to disk\n",
    "persist_dir = os.path.join(persist_root, model_name)\n",
    "index.storage_context.persist(persist_dir=persist_dir)"
   ]
  },
  {
   "cell_type": "code",
   "execution_count": null,
   "metadata": {},
   "outputs": [],
   "source": [
    "# interact with index\n",
    "index.as_query_engine(llm=OpenAI(model=\"gpt-4o-mini\"))"
   ]
  }
 ],
 "metadata": {
  "kernelspec": {
   "display_name": "interactive-rag-uPEmyITP-py3.11",
   "language": "python",
   "name": "python3"
  },
  "language_info": {
   "codemirror_mode": {
    "name": "ipython",
    "version": 3
   },
   "file_extension": ".py",
   "mimetype": "text/x-python",
   "name": "python",
   "nbconvert_exporter": "python",
   "pygments_lexer": "ipython3",
   "version": "3.11.9"
  }
 },
 "nbformat": 4,
 "nbformat_minor": 2
}
