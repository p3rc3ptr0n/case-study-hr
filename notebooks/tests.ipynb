{
 "cells": [
  {
   "cell_type": "code",
   "execution_count": null,
   "metadata": {},
   "outputs": [],
   "source": [
    "import os\n",
    "import faiss\n",
    "from llama_index.core import (\n",
    "    load_index_from_storage,\n",
    "    SimpleDirectoryReader,\n",
    "    StorageContext,\n",
    "    VectorStoreIndex,\n",
    ")\n",
    "from llama_index.core.node_parser import SimpleNodeParser\n",
    "from llama_index.embeddings.huggingface import HuggingFaceEmbedding\n",
    "from llama_index.embeddings.openai import OpenAIEmbedding\n",
    "from llama_index.vector_stores.faiss import FaissVectorStore\n",
    "from llama_index.llms.openai import OpenAI\n",
    "\n",
    "EMBEDDING_DIMENSIONS = {\n",
    "    \"sentence-transformers/all-MiniLM-L6-v2\": 384,\n",
    "    \"sentence-transformers/all-mpnet-base-v2\": 768,\n",
    "    \"text-embedding-3-small\": 1536,\n",
    "}"
   ]
  },
  {
   "cell_type": "code",
   "execution_count": 7,
   "metadata": {},
   "outputs": [],
   "source": [
    "input_dir = \"/Users/goeksu/dev/interactive_rag/data/landing\"\n",
    "persist_root = \"/Users/goeksu/dev/interactive_rag/data/index\"\n",
    "chunk_size = 256\n",
    "model_name = \"text-embedding-3-small\"\n",
    "\n",
    "# File ingestion\n",
    "# Simple directory reader seems to be sufficient for this task.\n",
    "reader = SimpleDirectoryReader(input_dir=input_dir)\n",
    "documents = reader.load_data()\n",
    "# Split docs to nodes and create vector index\n",
    "# Just setting a sliding window chunk here, nothing fancy.\n",
    "node_parser = SimpleNodeParser.from_defaults(\n",
    "    chunk_size=chunk_size, chunk_overlap=int(chunk_size * 0.2)\n",
    ")\n",
    "nodes = node_parser.get_nodes_from_documents(documents=documents)"
   ]
  },
  {
   "cell_type": "code",
   "execution_count": 8,
   "metadata": {},
   "outputs": [],
   "source": [
    "# Initialize embedding model\n",
    "if model_name.startswith(\"text-embedding-3\"):\n",
    "    embedding_model = OpenAIEmbedding(model=model_name)\n",
    "else:\n",
    "    embedding_model = HuggingFaceEmbedding(model_name=model_name)"
   ]
  },
  {
   "cell_type": "code",
   "execution_count": 9,
   "metadata": {},
   "outputs": [],
   "source": [
    "# Initialize a faiss vector store\n",
    "d = EMBEDDING_DIMENSIONS[model_name]\n",
    "faiss_index = faiss.IndexFlatL2(d)\n",
    "vector_store = FaissVectorStore(faiss_index=faiss_index)\n",
    "storage_context = StorageContext.from_defaults(vector_store=vector_store)\n",
    "index = VectorStoreIndex(\n",
    "    nodes=nodes, storage_context=storage_context, embed_model=embedding_model\n",
    ")\n",
    "# Save index to disk\n",
    "persist_dir = os.path.join(persist_root, model_name)\n",
    "index.storage_context.persist(persist_dir=persist_dir)"
   ]
  },
  {
   "cell_type": "code",
   "execution_count": 11,
   "metadata": {},
   "outputs": [],
   "source": [
    "# interact with index\n",
    "chat_engine = index.as_chat_engine(llm=OpenAI(model=\"gpt-4o-mini\"))"
   ]
  },
  {
   "cell_type": "code",
   "execution_count": null,
   "metadata": {},
   "outputs": [
    {
     "name": "stdout",
     "output_type": "stream",
     "text": [
      "ChemNovus Incorporated is dedicated to compliance with all relevant federal, state, and local laws, particularly concerning background checks to ensure a fair and non-discriminatory hiring process. Here are some key aspects of the company:\n",
      "\n",
      "- **Compensation Philosophy**: ChemNovus aims to provide competitive salaries that align with industry standards and individual performance. They conduct regular market surveys to maintain competitiveness.\n",
      "\n",
      "- **Salary Reviews**: The company conducts annual salary reviews, offering merit-based increases based on performance evaluations that consider factors such as job knowledge and teamwork. They also have variable compensation programs to reward exceptional contributions.\n",
      "\n",
      "- **Employee Health Benefits**: ChemNovus offers a comprehensive health insurance plan for full-time employees and their eligible dependents.\n",
      "\n",
      "- **Performance Management**: The company maintains a transparent and objective performance management process, encouraging employee participation and feedback.\n",
      "\n",
      "- **Ethics and Compliance**: ChemNovus upholds a strict code of ethics, guiding employees in ethical decision-making and behavior. They have policies addressing conflicts of interest and maintain a zero-tolerance stance on corruption and bribery.\n",
      "\n",
      "This information reflects ChemNovus's commitment to fair employment practices, competitive compensation, and ethical standards.\n"
     ]
    }
   ],
   "source": [
    "response = chat_engine.chat(\"What sort of information about ChemNovus can you provide?\")\n",
    "print(response)"
   ]
  },
  {
   "cell_type": "code",
   "execution_count": 14,
   "metadata": {},
   "outputs": [
    {
     "name": "stdout",
     "output_type": "stream",
     "text": [
      "ChemNovus Incorporated provides a comprehensive health benefits package that includes three medical plan options through a partnership with TheInsuranceCompany Ltd. Here are the details:\n",
      "\n",
      "1. **Plan A**: \n",
      "   - A traditional PPO plan.\n",
      "   - Features a broad network of providers.\n",
      "   - Comes with moderate deductibles and copays.\n",
      "   - Covers preventive care services, doctor visits, hospital stays, and prescription drugs.\n",
      "\n",
      "2. **Plan B**: \n",
      "   - A high-deductible health plan (HDHP).\n",
      "   - Includes a health savings account (HSA) option, allowing employees to contribute pre-tax dollars for eligible medical expenses.\n",
      "   - Also covers preventive care services, doctor visits, hospital stays, and prescription drugs.\n",
      "\n",
      "The specific differences in deductibles, copays, and coinsurance rates vary between the plans, allowing employees to choose the option that best fits their healthcare needs and financial situation.\n"
     ]
    }
   ],
   "source": [
    "response = chat_engine.chat(\"Can you give me more information about health benefits?\")\n",
    "print(response)"
   ]
  },
  {
   "cell_type": "code",
   "execution_count": null,
   "metadata": {},
   "outputs": [
    {
     "name": "stdout",
     "output_type": "stream",
     "text": [
      "In addition to the two medical plan options (Plan A and Plan B), ChemNovus Incorporated offers supplementary health insurance options that enhance coverage. These additional health benefits may include:\n",
      "\n",
      "- **Dental Care**: Coverage for dental services and treatments.\n",
      "- **Vision Care**: Coverage for eye exams, glasses, and contact lenses.\n",
      "- **Alternative Therapies**: Options for therapies that may not be covered under standard medical plans.\n",
      "- **Private Hospital Rooms**: Coverage for private accommodations during hospital stays.\n",
      "\n",
      "These supplementary benefits provide employees with more comprehensive health coverage beyond the basic medical plans.\n"
     ]
    }
   ],
   "source": [
    "response = chat_engine.chat(\n",
    "    \"Are these two the only health benefits available, or is there more?\"\n",
    ")\n",
    "print(response)"
   ]
  },
  {
   "cell_type": "code",
   "execution_count": 19,
   "metadata": {},
   "outputs": [],
   "source": [
    "# Load index and interact\n",
    "vector_store = FaissVectorStore.from_persist_dir(persist_dir)\n",
    "storage_context = StorageContext.from_defaults(\n",
    "    vector_store=vector_store, persist_dir=persist_dir\n",
    ")\n",
    "index_load = load_index_from_storage(storage_context=storage_context)\n",
    "\n",
    "# interact with index\n",
    "chat_engine_2 = index_load.as_chat_engine(\n",
    "    llm=OpenAI(model=\"gpt-4o-mini\"), chat_mode=\"condense_plus_context\"\n",
    ")"
   ]
  },
  {
   "cell_type": "code",
   "execution_count": 20,
   "metadata": {},
   "outputs": [
    {
     "name": "stdout",
     "output_type": "stream",
     "text": [
      "I can provide information about ChemNovus Incorporated's HR policies and procedures as outlined in their handbook. For instance, the handbook discusses the performance management process, which includes performance ratings and calibration, development planning, and how these evaluations can impact compensation and career progression. \n",
      "\n",
      "Employees receive performance ratings that reflect their contributions during a specific period, and these ratings are calibrated across teams to ensure fairness. Additionally, the performance evaluation process helps identify areas for professional development and creates plans to address skill gaps. \n",
      "\n",
      "Moreover, the results of these evaluations can influence decisions regarding merit-based salary increases, bonuses, promotions, and other career advancement opportunities. \n",
      "\n",
      "The handbook also emphasizes the importance of open communication during disciplinary actions, allowing employees the right to appeal decisions through established grievance procedures. This approach aims to maintain transparency and fairness throughout the process.\n",
      "\n",
      "If you have specific questions or need more detailed information, feel free to ask!\n"
     ]
    }
   ],
   "source": [
    "response = chat_engine_2.chat(\n",
    "    \"What sort of information about ChemNovus can you provide?\"\n",
    ")\n",
    "print(response)"
   ]
  }
 ],
 "metadata": {
  "kernelspec": {
   "display_name": "interactive-rag-uPEmyITP-py3.12",
   "language": "python",
   "name": "python3"
  },
  "language_info": {
   "codemirror_mode": {
    "name": "ipython",
    "version": 3
   },
   "file_extension": ".py",
   "mimetype": "text/x-python",
   "name": "python",
   "nbconvert_exporter": "python",
   "pygments_lexer": "ipython3",
   "version": "3.12.2"
  }
 },
 "nbformat": 4,
 "nbformat_minor": 2
}
