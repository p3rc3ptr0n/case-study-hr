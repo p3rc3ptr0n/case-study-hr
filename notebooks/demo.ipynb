{
 "cells": [
  {
   "cell_type": "code",
   "execution_count": null,
   "metadata": {},
   "outputs": [
    {
     "name": "stderr",
     "output_type": "stream",
     "text": [
      "/Users/goeksu/Library/Caches/pypoetry/virtualenvs/interactive-rag-uPEmyITP-py3.11/lib/python3.11/site-packages/pydantic/_internal/_fields.py:132: UserWarning: Field \"model_url\" in LlamaCPP has conflict with protected namespace \"model_\".\n",
      "\n",
      "You may be able to resolve this warning by setting `model_config['protected_namespaces'] = ()`.\n",
      "  warnings.warn(\n",
      "/Users/goeksu/Library/Caches/pypoetry/virtualenvs/interactive-rag-uPEmyITP-py3.11/lib/python3.11/site-packages/pydantic/_internal/_fields.py:132: UserWarning: Field \"model_path\" in LlamaCPP has conflict with protected namespace \"model_\".\n",
      "\n",
      "You may be able to resolve this warning by setting `model_config['protected_namespaces'] = ()`.\n",
      "  warnings.warn(\n",
      "/Users/goeksu/Library/Caches/pypoetry/virtualenvs/interactive-rag-uPEmyITP-py3.11/lib/python3.11/site-packages/pydantic/_internal/_fields.py:132: UserWarning: Field \"model_kwargs\" in LlamaCPP has conflict with protected namespace \"model_\".\n",
      "\n",
      "You may be able to resolve this warning by setting `model_config['protected_namespaces'] = ()`.\n",
      "  warnings.warn(\n",
      "/Users/goeksu/Library/Caches/pypoetry/virtualenvs/interactive-rag-uPEmyITP-py3.11/lib/python3.11/site-packages/tqdm/auto.py:21: TqdmWarning: IProgress not found. Please update jupyter and ipywidgets. See https://ipywidgets.readthedocs.io/en/stable/user_install.html\n",
      "  from .autonotebook import tqdm as notebook_tqdm\n"
     ]
    }
   ],
   "source": [
    "import sys\n",
    "\n",
    "sys.path.append(\"..\")\n",
    "\n",
    "from interactive_rag import InteractiveRAG\n",
    "\n",
    "embedding_model_name = \"text-embedding-3-small\"\n",
    "llm_name = \"gpt\"\n",
    "data_path = \"../data\"\n",
    "\n",
    "doc_chat = InteractiveRAG(embedding_model_name, data_path, llm_name)"
   ]
  },
  {
   "cell_type": "code",
   "execution_count": 2,
   "metadata": {},
   "outputs": [
    {
     "name": "stdout",
     "output_type": "stream",
     "text": [
      "Querying with: What assistance can you provide me with?\n",
      "I can provide information regarding performance evaluation processes, performance ratings and calibration, development planning, and how these elements relate to compensation and career progression. Additionally, I can offer insights into the importance of transparency and employee participation in performance management. If you have specific questions about any of these topics, feel free to ask!\n"
     ]
    }
   ],
   "source": [
    "doc_chat.chat(user_id=\"g\", message=\"What can you help me with?\")"
   ]
  },
  {
   "cell_type": "code",
   "execution_count": 3,
   "metadata": {},
   "outputs": [
    {
     "name": "stdout",
     "output_type": "stream",
     "text": [
      "Querying with: Can you provide information on the performance evaluation process at ChemNovus, including performance ratings, calibration, development planning, and how these elements relate to compensation and career progression?\n",
      "The performance evaluation process at ChemNovus involves several key components. At the end of the performance period, employees engage in a formal evaluation where supervisors assess their performance against established goals and competencies. This process may include self-assessments by employees and input from peers and other stakeholders.\n",
      "\n",
      "Following the evaluation, employees receive a performance rating that reflects their overall contributions and achievements. These ratings are calibrated across teams and departments to ensure consistency and fairness in evaluations.\n",
      "\n",
      "Additionally, the process identifies areas for professional development, leading to the creation of a development plan aimed at addressing skill gaps and growth opportunities for employees.\n",
      "\n",
      "The outcomes of the performance evaluation can influence decisions regarding merit-based salary increases, bonuses, promotions, and other career advancement opportunities, linking performance directly to compensation and career progression.\n"
     ]
    }
   ],
   "source": [
    "doc_chat.chat(\n",
    "    user_id=\"g\",\n",
    "    message=\"How does the performance evaluation process look like at ChemNovus?\",\n",
    ")"
   ]
  },
  {
   "cell_type": "code",
   "execution_count": 4,
   "metadata": {},
   "outputs": [
    {
     "data": {
      "text/plain": [
       "[ChatMessage(role=<MessageRole.USER: 'user'>, content='What can you help me with?', additional_kwargs={}),\n",
       " ChatMessage(role=<MessageRole.USER: 'user'>, content='What can you help me with?', additional_kwargs={}),\n",
       " ChatMessage(role=<MessageRole.USER: 'user'>, content='What can you help me with?', additional_kwargs={}),\n",
       " ChatMessage(role=<MessageRole.ASSISTANT: 'assistant'>, content='I can provide information regarding performance evaluation processes, performance ratings and calibration, development planning, and how these elements relate to compensation and career progression. Additionally, I can offer insights into the importance of transparency and employee participation in performance management. If you have specific questions about any of these topics, feel free to ask!', additional_kwargs={}),\n",
       " ChatMessage(role=<MessageRole.USER: 'user'>, content='How does the performance evaluation process look like at ChemNovus?', additional_kwargs={}),\n",
       " ChatMessage(role=<MessageRole.ASSISTANT: 'assistant'>, content='The performance evaluation process at ChemNovus involves several key components. At the end of the performance period, employees engage in a formal evaluation where supervisors assess their performance against established goals and competencies. This process may include self-assessments by employees and input from peers and other stakeholders.\\n\\nFollowing the evaluation, employees receive a performance rating that reflects their overall contributions and achievements. These ratings are calibrated across teams and departments to ensure consistency and fairness in evaluations.\\n\\nAdditionally, the process identifies areas for professional development, leading to the creation of a development plan aimed at addressing skill gaps and growth opportunities for employees.\\n\\nThe outcomes of the performance evaluation can influence decisions regarding merit-based salary increases, bonuses, promotions, and other career advancement opportunities, linking performance directly to compensation and career progression.', additional_kwargs={})]"
      ]
     },
     "execution_count": 4,
     "metadata": {},
     "output_type": "execute_result"
    }
   ],
   "source": [
    "doc_chat.get_chat_history(doc_chat.load_or_create_session(\"g\"))"
   ]
  }
 ],
 "metadata": {
  "kernelspec": {
   "display_name": "interactive-rag-uPEmyITP-py3.11",
   "language": "python",
   "name": "python3"
  },
  "language_info": {
   "codemirror_mode": {
    "name": "ipython",
    "version": 3
   },
   "file_extension": ".py",
   "mimetype": "text/x-python",
   "name": "python",
   "nbconvert_exporter": "python",
   "pygments_lexer": "ipython3",
   "version": "3.11.9"
  }
 },
 "nbformat": 4,
 "nbformat_minor": 2
}
