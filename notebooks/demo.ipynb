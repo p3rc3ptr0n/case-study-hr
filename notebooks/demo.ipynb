{
 "cells": [
  {
   "cell_type": "code",
   "execution_count": 1,
   "metadata": {},
   "outputs": [
    {
     "name": "stderr",
     "output_type": "stream",
     "text": [
      "/Users/goeksu/Library/Caches/pypoetry/virtualenvs/interactive-rag-uPEmyITP-py3.12/lib/python3.12/site-packages/pydantic/_internal/_fields.py:132: UserWarning: Field \"model_url\" in LlamaCPP has conflict with protected namespace \"model_\".\n",
      "\n",
      "You may be able to resolve this warning by setting `model_config['protected_namespaces'] = ()`.\n",
      "  warnings.warn(\n",
      "/Users/goeksu/Library/Caches/pypoetry/virtualenvs/interactive-rag-uPEmyITP-py3.12/lib/python3.12/site-packages/pydantic/_internal/_fields.py:132: UserWarning: Field \"model_path\" in LlamaCPP has conflict with protected namespace \"model_\".\n",
      "\n",
      "You may be able to resolve this warning by setting `model_config['protected_namespaces'] = ()`.\n",
      "  warnings.warn(\n",
      "/Users/goeksu/Library/Caches/pypoetry/virtualenvs/interactive-rag-uPEmyITP-py3.12/lib/python3.12/site-packages/pydantic/_internal/_fields.py:132: UserWarning: Field \"model_kwargs\" in LlamaCPP has conflict with protected namespace \"model_\".\n",
      "\n",
      "You may be able to resolve this warning by setting `model_config['protected_namespaces'] = ()`.\n",
      "  warnings.warn(\n",
      "/Users/goeksu/Library/Caches/pypoetry/virtualenvs/interactive-rag-uPEmyITP-py3.12/lib/python3.12/site-packages/tqdm/auto.py:21: TqdmWarning: IProgress not found. Please update jupyter and ipywidgets. See https://ipywidgets.readthedocs.io/en/stable/user_install.html\n",
      "  from .autonotebook import tqdm as notebook_tqdm\n"
     ]
    }
   ],
   "source": [
    "import sys\n",
    "\n",
    "sys.path.append(\"..\")\n",
    "\n",
    "from interactive_rag import InteractiveRAG\n",
    "\n",
    "embedding_model_name = \"text-embedding-3-small\"\n",
    "llm_name = \"gpt\"\n",
    "data_path = \"../data\"\n",
    "\n",
    "doc_chat = InteractiveRAG(embedding_model_name, data_path, llm_name)"
   ]
  },
  {
   "cell_type": "code",
   "execution_count": 2,
   "metadata": {},
   "outputs": [
    {
     "name": "stdout",
     "output_type": "stream",
     "text": [
      "Condensed question: What sort of information about ChemNovus can you provide?\n",
      "\n",
      "Assistant response: I can provide information about various aspects of ChemNovus Incorporated, such as their employee benefits, compensation philosophy, health insurance plans, charitable giving programs, employee discounts, and tuition assistance programs. ChemNovus offers competitive salaries aligned with industry standards, conducts regular market surveys for benchmarking, and provides merit-based salary increases. They also offer health insurance coverage for full-time employees and their eligible dependents. Additionally, ChemNovus supports charitable organizations, encourages volunteerism, and offers discounts on products and services for employees. Furthermore, they have a tuition assistance program to support continuous learning and professional development. If you have specific questions or need more detailed information, you can contact the Human Resources department or visit the ChemNovus Incorporated Employee Benefits Portal.\n"
     ]
    }
   ],
   "source": [
    "doc_chat.chat(\n",
    "    user_id=\"g\",\n",
    "    message=\"What sort of information about ChemNovus can you provide?\",\n",
    ")"
   ]
  },
  {
   "cell_type": "code",
   "execution_count": 3,
   "metadata": {},
   "outputs": [
    {
     "name": "stdout",
     "output_type": "stream",
     "text": [
      "Condensed question: What additional details can you provide about ChemNovus Incorporated's health benefits?\n",
      "\n",
      "Assistant response: ChemNovus Incorporated provides a range of health benefits to its employees. These include basic life and disability insurance coverage at no cost to the employees. Additionally, there may be options for additional voluntary life insurance and long-term disability coverage that employees can purchase, depending on their location. The company also offers health insurance plans for full-time employees and their eligible dependents, although specific details about the coverage levels and providers are not mentioned in the documents provided. For more detailed information about the health benefits offered by ChemNovus Incorporated, it is recommended to contact the Human Resources department or visit the ChemNovus Incorporated Employee Benefits Portal.\n"
     ]
    }
   ],
   "source": [
    "doc_chat.chat(\n",
    "    user_id=\"g\",\n",
    "    message=\"Can you give me more information about health benefits?\",\n",
    ")"
   ]
  },
  {
   "cell_type": "code",
   "execution_count": 4,
   "metadata": {},
   "outputs": [
    {
     "data": {
      "text/plain": [
       "[ChatMessage(role=<MessageRole.USER: 'user'>, content='What sort of information about ChemNovus can you provide?', additional_kwargs={}),\n",
       " ChatMessage(role=<MessageRole.ASSISTANT: 'assistant'>, content='I can provide information about various aspects of ChemNovus Incorporated, such as their employee benefits, compensation philosophy, health insurance plans, charitable giving programs, employee discounts, and tuition assistance programs. ChemNovus offers competitive salaries aligned with industry standards, conducts regular market surveys for benchmarking, and provides merit-based salary increases. They also offer health insurance coverage for full-time employees and their eligible dependents. Additionally, ChemNovus supports charitable organizations, encourages volunteerism, and offers discounts on products and services for employees. Furthermore, they have a tuition assistance program to support continuous learning and professional development. If you have specific questions or need more detailed information, you can contact the Human Resources department or visit the ChemNovus Incorporated Employee Benefits Portal.', additional_kwargs={}),\n",
       " ChatMessage(role=<MessageRole.USER: 'user'>, content='Can you give me more information about health benefits?', additional_kwargs={}),\n",
       " ChatMessage(role=<MessageRole.ASSISTANT: 'assistant'>, content='ChemNovus Incorporated provides a range of health benefits to its employees. These include basic life and disability insurance coverage at no cost to the employees. Additionally, there may be options for additional voluntary life insurance and long-term disability coverage that employees can purchase, depending on their location. The company also offers health insurance plans for full-time employees and their eligible dependents, although specific details about the coverage levels and providers are not mentioned in the documents provided. For more detailed information about the health benefits offered by ChemNovus Incorporated, it is recommended to contact the Human Resources department or visit the ChemNovus Incorporated Employee Benefits Portal.', additional_kwargs={})]"
      ]
     },
     "execution_count": 4,
     "metadata": {},
     "output_type": "execute_result"
    }
   ],
   "source": [
    "doc_chat.get_chat_history(doc_chat.load_or_create_session(\"g\"))"
   ]
  },
  {
   "cell_type": "code",
   "execution_count": 6,
   "metadata": {},
   "outputs": [],
   "source": [
    "doc_chat.delete_history(\"g\")"
   ]
  }
 ],
 "metadata": {
  "kernelspec": {
   "display_name": "interactive-rag-uPEmyITP-py3.12",
   "language": "python",
   "name": "python3"
  },
  "language_info": {
   "codemirror_mode": {
    "name": "ipython",
    "version": 3
   },
   "file_extension": ".py",
   "mimetype": "text/x-python",
   "name": "python",
   "nbconvert_exporter": "python",
   "pygments_lexer": "ipython3",
   "version": "3.12.2"
  }
 },
 "nbformat": 4,
 "nbformat_minor": 2
}
